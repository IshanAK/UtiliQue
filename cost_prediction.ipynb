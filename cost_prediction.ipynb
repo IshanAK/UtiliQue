{
  "nbformat": 4,
  "nbformat_minor": 0,
  "metadata": {
    "colab": {
      "name": "cost_prediction.ipynb",
      "provenance": [],
      "collapsed_sections": [],
      "machine_shape": "hm",
      "include_colab_link": true
    },
    "kernelspec": {
      "name": "python3",
      "display_name": "Python 3"
    }
  },
  "cells": [
    {
      "cell_type": "markdown",
      "metadata": {
        "id": "view-in-github",
        "colab_type": "text"
      },
      "source": [
        "<a href=\"https://colab.research.google.com/github/IshanAK/UtiliQue/blob/cost_prediction/cost_prediction.ipynb\" target=\"_parent\"><img src=\"https://colab.research.google.com/assets/colab-badge.svg\" alt=\"Open In Colab\"/></a>"
      ]
    },
    {
      "cell_type": "code",
      "metadata": {
        "id": "DOdy0TGCFmUQ"
      },
      "source": [
        "# Importing all necessary libraries to work with the dataset\n",
        "import numpy as np # linear algebra\n",
        "#Using Matplotlib library it able to plot all types 2D graphs in python\n",
        "import matplotlib.pyplot as plt \n",
        "#sklearn.metrics includes score functions, performance metrics and pairwise metrics and distance computations.\n",
        "import sklearn.metrics as sm\n",
        "# Using Panda library it able to get a dataframe with rows and columns out of the dataset\n",
        "import pandas as pd\n",
        "from sklearn import linear_model\n",
        "%matplotlib inline\n",
        "import pickle"
      ],
      "execution_count": null,
      "outputs": []
    },
    {
      "cell_type": "code",
      "metadata": {
        "id": "gfUdcbuYWTk6",
        "outputId": "a86ff5bb-1478-43f6-8749-2b78bde70adf",
        "colab": {
          "base_uri": "https://localhost:8080/",
          "height": 34
        }
      },
      "source": [
        "from google.colab import drive\n",
        "drive.mount('/content/drive')"
      ],
      "execution_count": null,
      "outputs": [
        {
          "output_type": "stream",
          "text": [
            "Mounted at /content/drive\n"
          ],
          "name": "stdout"
        }
      ]
    },
    {
      "cell_type": "code",
      "metadata": {
        "id": "qmpcNKtwIEmJ",
        "outputId": "6827afc7-6b17-4b18-f027-38cb05d093e0",
        "colab": {
          "base_uri": "https://localhost:8080/",
          "height": 204
        }
      },
      "source": [
        "from google.colab import files\n",
        "data = pd.read_csv(\"/content/drive/My Drive/CDAP/Dataset/dataset.csv\")\n",
        "data.head()"
      ],
      "execution_count": null,
      "outputs": [
        {
          "output_type": "execute_result",
          "data": {
            "text/html": [
              "<div>\n",
              "<style scoped>\n",
              "    .dataframe tbody tr th:only-of-type {\n",
              "        vertical-align: middle;\n",
              "    }\n",
              "\n",
              "    .dataframe tbody tr th {\n",
              "        vertical-align: top;\n",
              "    }\n",
              "\n",
              "    .dataframe thead th {\n",
              "        text-align: right;\n",
              "    }\n",
              "</style>\n",
              "<table border=\"1\" class=\"dataframe\">\n",
              "  <thead>\n",
              "    <tr style=\"text-align: right;\">\n",
              "      <th></th>\n",
              "      <th>Distance(Km)</th>\n",
              "      <th>Cost for Distance</th>\n",
              "      <th>Working Hours</th>\n",
              "      <th>Cost for Working Hours</th>\n",
              "      <th>Total</th>\n",
              "      <th>Priority Level</th>\n",
              "      <th>Cost for Priority</th>\n",
              "      <th>Net Total</th>\n",
              "    </tr>\n",
              "  </thead>\n",
              "  <tbody>\n",
              "    <tr>\n",
              "      <th>0</th>\n",
              "      <td>0</td>\n",
              "      <td>0</td>\n",
              "      <td>2</td>\n",
              "      <td>1000</td>\n",
              "      <td>1000</td>\n",
              "      <td>0</td>\n",
              "      <td>0</td>\n",
              "      <td>1000</td>\n",
              "    </tr>\n",
              "    <tr>\n",
              "      <th>1</th>\n",
              "      <td>3</td>\n",
              "      <td>150</td>\n",
              "      <td>1</td>\n",
              "      <td>500</td>\n",
              "      <td>650</td>\n",
              "      <td>0</td>\n",
              "      <td>0</td>\n",
              "      <td>650</td>\n",
              "    </tr>\n",
              "    <tr>\n",
              "      <th>2</th>\n",
              "      <td>4</td>\n",
              "      <td>200</td>\n",
              "      <td>4</td>\n",
              "      <td>2000</td>\n",
              "      <td>2200</td>\n",
              "      <td>0</td>\n",
              "      <td>0</td>\n",
              "      <td>2200</td>\n",
              "    </tr>\n",
              "    <tr>\n",
              "      <th>3</th>\n",
              "      <td>1</td>\n",
              "      <td>50</td>\n",
              "      <td>3</td>\n",
              "      <td>1500</td>\n",
              "      <td>1550</td>\n",
              "      <td>1</td>\n",
              "      <td>155</td>\n",
              "      <td>1705</td>\n",
              "    </tr>\n",
              "    <tr>\n",
              "      <th>4</th>\n",
              "      <td>2</td>\n",
              "      <td>100</td>\n",
              "      <td>3</td>\n",
              "      <td>1500</td>\n",
              "      <td>1600</td>\n",
              "      <td>0</td>\n",
              "      <td>0</td>\n",
              "      <td>1600</td>\n",
              "    </tr>\n",
              "  </tbody>\n",
              "</table>\n",
              "</div>"
            ],
            "text/plain": [
              "   Distance(Km)  Cost for Distance  ...  Cost for Priority  Net Total\n",
              "0             0                  0  ...                  0       1000\n",
              "1             3                150  ...                  0        650\n",
              "2             4                200  ...                  0       2200\n",
              "3             1                 50  ...                155       1705\n",
              "4             2                100  ...                  0       1600\n",
              "\n",
              "[5 rows x 8 columns]"
            ]
          },
          "metadata": {
            "tags": []
          },
          "execution_count": 4
        }
      ]
    },
    {
      "cell_type": "code",
      "metadata": {
        "id": "NNNY3MtgJV_g",
        "outputId": "14c03295-941d-4e39-8408-3b13c25d33b7",
        "colab": {
          "base_uri": "https://localhost:8080/",
          "height": 297
        }
      },
      "source": [
        "data.describe().transpose()"
      ],
      "execution_count": null,
      "outputs": [
        {
          "output_type": "execute_result",
          "data": {
            "text/html": [
              "<div>\n",
              "<style scoped>\n",
              "    .dataframe tbody tr th:only-of-type {\n",
              "        vertical-align: middle;\n",
              "    }\n",
              "\n",
              "    .dataframe tbody tr th {\n",
              "        vertical-align: top;\n",
              "    }\n",
              "\n",
              "    .dataframe thead th {\n",
              "        text-align: right;\n",
              "    }\n",
              "</style>\n",
              "<table border=\"1\" class=\"dataframe\">\n",
              "  <thead>\n",
              "    <tr style=\"text-align: right;\">\n",
              "      <th></th>\n",
              "      <th>count</th>\n",
              "      <th>mean</th>\n",
              "      <th>std</th>\n",
              "      <th>min</th>\n",
              "      <th>25%</th>\n",
              "      <th>50%</th>\n",
              "      <th>75%</th>\n",
              "      <th>max</th>\n",
              "    </tr>\n",
              "  </thead>\n",
              "  <tbody>\n",
              "    <tr>\n",
              "      <th>Distance(Km)</th>\n",
              "      <td>9999.0</td>\n",
              "      <td>2.479648</td>\n",
              "      <td>1.716552</td>\n",
              "      <td>0.0</td>\n",
              "      <td>1.0</td>\n",
              "      <td>3.0</td>\n",
              "      <td>4.0</td>\n",
              "      <td>5.0</td>\n",
              "    </tr>\n",
              "    <tr>\n",
              "      <th>Cost for Distance</th>\n",
              "      <td>9999.0</td>\n",
              "      <td>123.982398</td>\n",
              "      <td>85.827591</td>\n",
              "      <td>0.0</td>\n",
              "      <td>50.0</td>\n",
              "      <td>150.0</td>\n",
              "      <td>200.0</td>\n",
              "      <td>250.0</td>\n",
              "    </tr>\n",
              "    <tr>\n",
              "      <th>Working Hours</th>\n",
              "      <td>9999.0</td>\n",
              "      <td>3.007501</td>\n",
              "      <td>1.414158</td>\n",
              "      <td>1.0</td>\n",
              "      <td>2.0</td>\n",
              "      <td>3.0</td>\n",
              "      <td>4.0</td>\n",
              "      <td>5.0</td>\n",
              "    </tr>\n",
              "    <tr>\n",
              "      <th>Cost for Working Hours</th>\n",
              "      <td>9999.0</td>\n",
              "      <td>1503.750375</td>\n",
              "      <td>707.079153</td>\n",
              "      <td>500.0</td>\n",
              "      <td>1000.0</td>\n",
              "      <td>1500.0</td>\n",
              "      <td>2000.0</td>\n",
              "      <td>2500.0</td>\n",
              "    </tr>\n",
              "    <tr>\n",
              "      <th>Total</th>\n",
              "      <td>9999.0</td>\n",
              "      <td>1627.732773</td>\n",
              "      <td>711.320719</td>\n",
              "      <td>500.0</td>\n",
              "      <td>1050.0</td>\n",
              "      <td>1650.0</td>\n",
              "      <td>2200.0</td>\n",
              "      <td>2750.0</td>\n",
              "    </tr>\n",
              "    <tr>\n",
              "      <th>Priority Level</th>\n",
              "      <td>9999.0</td>\n",
              "      <td>0.998300</td>\n",
              "      <td>0.815984</td>\n",
              "      <td>0.0</td>\n",
              "      <td>0.0</td>\n",
              "      <td>1.0</td>\n",
              "      <td>2.0</td>\n",
              "      <td>2.0</td>\n",
              "    </tr>\n",
              "    <tr>\n",
              "      <th>Cost for Priority</th>\n",
              "      <td>9999.0</td>\n",
              "      <td>162.637764</td>\n",
              "      <td>161.451010</td>\n",
              "      <td>0.0</td>\n",
              "      <td>0.0</td>\n",
              "      <td>130.0</td>\n",
              "      <td>255.0</td>\n",
              "      <td>550.0</td>\n",
              "    </tr>\n",
              "    <tr>\n",
              "      <th>Net Total</th>\n",
              "      <td>9999.0</td>\n",
              "      <td>1790.370537</td>\n",
              "      <td>795.578993</td>\n",
              "      <td>500.0</td>\n",
              "      <td>1150.0</td>\n",
              "      <td>1800.0</td>\n",
              "      <td>2475.0</td>\n",
              "      <td>3300.0</td>\n",
              "    </tr>\n",
              "  </tbody>\n",
              "</table>\n",
              "</div>"
            ],
            "text/plain": [
              "                         count         mean         std  ...     50%     75%     max\n",
              "Distance(Km)            9999.0     2.479648    1.716552  ...     3.0     4.0     5.0\n",
              "Cost for Distance       9999.0   123.982398   85.827591  ...   150.0   200.0   250.0\n",
              "Working Hours           9999.0     3.007501    1.414158  ...     3.0     4.0     5.0\n",
              "Cost for Working Hours  9999.0  1503.750375  707.079153  ...  1500.0  2000.0  2500.0\n",
              "Total                   9999.0  1627.732773  711.320719  ...  1650.0  2200.0  2750.0\n",
              "Priority Level          9999.0     0.998300    0.815984  ...     1.0     2.0     2.0\n",
              "Cost for Priority       9999.0   162.637764  161.451010  ...   130.0   255.0   550.0\n",
              "Net Total               9999.0  1790.370537  795.578993  ...  1800.0  2475.0  3300.0\n",
              "\n",
              "[8 rows x 8 columns]"
            ]
          },
          "metadata": {
            "tags": []
          },
          "execution_count": 5
        }
      ]
    },
    {
      "cell_type": "code",
      "metadata": {
        "id": "VFU-rMZAJfFd",
        "outputId": "f22831cc-6269-4319-e761-ab21f4a011b3",
        "colab": {
          "base_uri": "https://localhost:8080/",
          "height": 34
        }
      },
      "source": [
        "#Check for existing null values\n",
        "total_null_values = sum(data.isnull().sum())\n",
        "print(total_null_values)"
      ],
      "execution_count": null,
      "outputs": [
        {
          "output_type": "stream",
          "text": [
            "0\n"
          ],
          "name": "stdout"
        }
      ]
    },
    {
      "cell_type": "code",
      "metadata": {
        "id": "OL_DkdDUJidn"
      },
      "source": [
        "#LabelEncoder use to normalize labels which they contain only values between 0 and n_classes-1. \n",
        "from sklearn.preprocessing import LabelEncoder\n",
        "Enc = LabelEncoder()\n",
        "data_tf = data.copy()\n",
        "for i in data.columns:\n",
        "    data_tf[i]=Enc.fit_transform(data[i])"
      ],
      "execution_count": null,
      "outputs": []
    },
    {
      "cell_type": "code",
      "metadata": {
        "id": "zKf5a9sAJl1f"
      },
      "source": [
        "#Drop the 'Outcome' column which represent the feacture which we are going to predict \n",
        "X = data_tf.drop(['Net Total'], axis=1)\n",
        "#assign 'Outcome' column to Y varible\n",
        "Y = data_tf['Net Total']\n",
        "feature_list = list(X.columns)"
      ],
      "execution_count": null,
      "outputs": []
    },
    {
      "cell_type": "code",
      "metadata": {
        "id": "kcQes0zsJo7g",
        "outputId": "534ffb7c-87a9-4f1e-aa1a-1ca70d387983",
        "colab": {
          "base_uri": "https://localhost:8080/",
          "height": 85
        }
      },
      "source": [
        "#Dataset has been separated by 80/20 for training and testing.\n",
        "from sklearn.model_selection import train_test_split\n",
        "\n",
        "X_train, X_test, Y_train, Y_test = train_test_split(X, Y, test_size=0.2, random_state = 42)\n",
        "\n",
        "print(X_train.shape,' is the shape of Training Features')\n",
        "print(Y_train.shape,' is the shape of Training Lables')\n",
        "print(X_test.shape,' is the shape of Testing Features')\n",
        "print(Y_train.shape,' is the shape of Testing Lables')"
      ],
      "execution_count": null,
      "outputs": [
        {
          "output_type": "stream",
          "text": [
            "(7999, 7)  is the shape of Training Features\n",
            "(7999,)  is the shape of Training Lables\n",
            "(2000, 7)  is the shape of Testing Features\n",
            "(7999,)  is the shape of Testing Lables\n"
          ],
          "name": "stdout"
        }
      ]
    },
    {
      "cell_type": "code",
      "metadata": {
        "id": "n-9onxafDi2y",
        "outputId": "1b899c3e-dce5-4050-c6cf-4387983b7ebe",
        "colab": {
          "base_uri": "https://localhost:8080/",
          "height": 34
        }
      },
      "source": [
        "reg = linear_model.LinearRegression()\n",
        "reg.fit(X_train,Y_train)"
      ],
      "execution_count": null,
      "outputs": [
        {
          "output_type": "execute_result",
          "data": {
            "text/plain": [
              "LinearRegression(copy_X=True, fit_intercept=True, n_jobs=None, normalize=False)"
            ]
          },
          "metadata": {
            "tags": []
          },
          "execution_count": 10
        }
      ]
    },
    {
      "cell_type": "code",
      "metadata": {
        "id": "lJj4HuDyVcZA"
      },
      "source": [
        "pickle.dump(reg, open('model.pkl','wb'))"
      ],
      "execution_count": null,
      "outputs": []
    },
    {
      "cell_type": "code",
      "metadata": {
        "id": "5nqB1Wz_D2J1",
        "outputId": "4c0da5ed-4feb-4220-a03c-a006af60e9d6",
        "colab": {
          "base_uri": "https://localhost:8080/",
          "height": 51
        }
      },
      "source": [
        "reg.coef_"
      ],
      "execution_count": null,
      "outputs": [
        {
          "output_type": "execute_result",
          "data": {
            "text/plain": [
              "array([-0.36381209, -0.36381209,  0.44173964,  0.44173964,  2.28662574,\n",
              "        1.63205255,  0.18161584])"
            ]
          },
          "metadata": {
            "tags": []
          },
          "execution_count": 12
        }
      ]
    },
    {
      "cell_type": "code",
      "metadata": {
        "id": "EzA22GFID-TY",
        "outputId": "d950dea2-9506-41f8-cc39-78f97ddbb346",
        "colab": {
          "base_uri": "https://localhost:8080/",
          "height": 34
        }
      },
      "source": [
        "reg.predict([[0,0,2,1,1,0,0]])"
      ],
      "execution_count": null,
      "outputs": [
        {
          "output_type": "execute_result",
          "data": {
            "text/plain": [
              "array([3.15877281])"
            ]
          },
          "metadata": {
            "tags": []
          },
          "execution_count": 13
        }
      ]
    },
    {
      "cell_type": "code",
      "metadata": {
        "id": "MGRWW4MRBpvD",
        "outputId": "1905a77a-c7cd-48a6-a6e3-84544c43ab69",
        "colab": {
          "base_uri": "https://localhost:8080/",
          "height": 34
        }
      },
      "source": [
        "#Training accuracy of the model \n",
        "reg.score(X_train, Y_train)"
      ],
      "execution_count": null,
      "outputs": [
        {
          "output_type": "execute_result",
          "data": {
            "text/plain": [
              "0.9981408849465556"
            ]
          },
          "metadata": {
            "tags": []
          },
          "execution_count": 14
        }
      ]
    },
    {
      "cell_type": "code",
      "metadata": {
        "id": "_H50OmENJr2C",
        "outputId": "be4e2365-493e-4faa-ed19-f01b775eaa16",
        "colab": {
          "base_uri": "https://localhost:8080/",
          "height": 153
        }
      },
      "source": [
        "#Impliment the RandomForestClassifier \n",
        "from sklearn.ensemble import RandomForestClassifier\n",
        "rnd_clf = RandomForestClassifier(n_estimators=10)\n",
        "rnd_clf.fit(X_train, Y_train)"
      ],
      "execution_count": null,
      "outputs": [
        {
          "output_type": "execute_result",
          "data": {
            "text/plain": [
              "RandomForestClassifier(bootstrap=True, ccp_alpha=0.0, class_weight=None,\n",
              "                       criterion='gini', max_depth=None, max_features='auto',\n",
              "                       max_leaf_nodes=None, max_samples=None,\n",
              "                       min_impurity_decrease=0.0, min_impurity_split=None,\n",
              "                       min_samples_leaf=1, min_samples_split=2,\n",
              "                       min_weight_fraction_leaf=0.0, n_estimators=10,\n",
              "                       n_jobs=None, oob_score=False, random_state=None,\n",
              "                       verbose=0, warm_start=False)"
            ]
          },
          "metadata": {
            "tags": []
          },
          "execution_count": 15
        }
      ]
    },
    {
      "cell_type": "code",
      "metadata": {
        "id": "zNtre19-Jv3d",
        "outputId": "1f56ca4b-582c-433f-ca6e-82147dcef127",
        "colab": {
          "base_uri": "https://localhost:8080/",
          "height": 34
        }
      },
      "source": [
        "#Do the predicitions using test data\n",
        "Y_pred = rnd_clf.predict(X_test)\n",
        "Y_pred"
      ],
      "execution_count": null,
      "outputs": [
        {
          "output_type": "execute_result",
          "data": {
            "text/plain": [
              "array([65, 47,  1, ...,  5, 66, 60])"
            ]
          },
          "metadata": {
            "tags": []
          },
          "execution_count": 16
        }
      ]
    },
    {
      "cell_type": "code",
      "metadata": {
        "id": "qpK6kHAxJ1Uj",
        "outputId": "f81529a3-94e0-4e1a-8b03-c73a2803102b",
        "colab": {
          "base_uri": "https://localhost:8080/",
          "height": 34
        }
      },
      "source": [
        "#Get the accuracy score\n",
        "accuracyscore=sm.accuracy_score(Y_test, Y_pred)\n",
        "print('Accuracy score given for test data:',str(accuracyscore))"
      ],
      "execution_count": null,
      "outputs": [
        {
          "output_type": "stream",
          "text": [
            "Accuracy score given for test data: 1.0\n"
          ],
          "name": "stdout"
        }
      ]
    },
    {
      "cell_type": "code",
      "metadata": {
        "id": "EWL-5Vlrsu6p",
        "outputId": "e0e35442-b11f-46dc-fd5c-91aab2e689a5",
        "colab": {
          "base_uri": "https://localhost:8080/",
          "height": 170
        }
      },
      "source": [
        "#Confusion Matrix\n",
        "from sklearn.metrics import confusion_matrix\n",
        "\n",
        "cm = confusion_matrix(Y_test, rnd_clf.predict(X_test))\n",
        "  \n",
        "TN = cm[0][0]\n",
        "TP = cm[1][1]\n",
        "FN = cm[1][0]\n",
        "FP = cm[0][1]\n",
        "  \n",
        "print(cm)\n",
        "print('Model[{}] Testing Accuracy = \"{}!\"'.format(0,  (TP + TN) / (TP + TN + FN + FP)))\n",
        "print()# Print a new line"
      ],
      "execution_count": null,
      "outputs": [
        {
          "output_type": "stream",
          "text": [
            "[[18  0  0 ...  0  0  0]\n",
            " [ 0 38  0 ...  0  0  0]\n",
            " [ 0  0 44 ...  0  0  0]\n",
            " ...\n",
            " [ 0  0  0 ... 27  0  0]\n",
            " [ 0  0  0 ...  0 26  0]\n",
            " [ 0  0  0 ...  0  0 28]]\n",
            "Model[0] Testing Accuracy = \"1.0!\"\n",
            "\n"
          ],
          "name": "stdout"
        }
      ]
    },
    {
      "cell_type": "code",
      "metadata": {
        "id": "VrvFOWcYdU3T",
        "outputId": "1ff71f20-c9a3-43bc-ab4a-8a0779e37fdc",
        "colab": {
          "base_uri": "https://localhost:8080/",
          "height": 1000
        }
      },
      "source": [
        "#Classification report\n",
        "from sklearn.metrics import classification_report\n",
        "from sklearn.metrics import accuracy_score\n",
        "\n",
        "\n",
        "#Check precision, recall, f1-score\n",
        "print('Classification report:')\n",
        "print()# Print a new line\n",
        "print( classification_report(Y_test, rnd_clf.predict(X_test)) )\n",
        "#Another way to get the models accuracy on the test data\n",
        "print( accuracy_score(Y_test, rnd_clf.predict(X_test)))\n",
        "print()#Print a new line"
      ],
      "execution_count": null,
      "outputs": [
        {
          "output_type": "stream",
          "text": [
            "Classification report:\n",
            "\n",
            "              precision    recall  f1-score   support\n",
            "\n",
            "           0       1.00      1.00      1.00        18\n",
            "           1       1.00      1.00      1.00        38\n",
            "           2       1.00      1.00      1.00        44\n",
            "           3       1.00      1.00      1.00        22\n",
            "           4       1.00      1.00      1.00        23\n",
            "           5       1.00      1.00      1.00        49\n",
            "           6       1.00      1.00      1.00        20\n",
            "           7       1.00      1.00      1.00        28\n",
            "           8       1.00      1.00      1.00        14\n",
            "           9       1.00      1.00      1.00        12\n",
            "          10       1.00      1.00      1.00        26\n",
            "          11       1.00      1.00      1.00        18\n",
            "          12       1.00      1.00      1.00        22\n",
            "          13       1.00      1.00      1.00        20\n",
            "          14       1.00      1.00      1.00        17\n",
            "          15       1.00      1.00      1.00        24\n",
            "          16       1.00      1.00      1.00        27\n",
            "          17       1.00      1.00      1.00        52\n",
            "          18       1.00      1.00      1.00        22\n",
            "          19       1.00      1.00      1.00        24\n",
            "          20       1.00      1.00      1.00        33\n",
            "          21       1.00      1.00      1.00        24\n",
            "          22       1.00      1.00      1.00        23\n",
            "          23       1.00      1.00      1.00        23\n",
            "          24       1.00      1.00      1.00        27\n",
            "          25       1.00      1.00      1.00        34\n",
            "          26       1.00      1.00      1.00        23\n",
            "          27       1.00      1.00      1.00        22\n",
            "          28       1.00      1.00      1.00        23\n",
            "          29       1.00      1.00      1.00        39\n",
            "          30       1.00      1.00      1.00        21\n",
            "          31       1.00      1.00      1.00        18\n",
            "          32       1.00      1.00      1.00        50\n",
            "          33       1.00      1.00      1.00        29\n",
            "          34       1.00      1.00      1.00        19\n",
            "          35       1.00      1.00      1.00        21\n",
            "          36       1.00      1.00      1.00        22\n",
            "          37       1.00      1.00      1.00        21\n",
            "          38       1.00      1.00      1.00        18\n",
            "          39       1.00      1.00      1.00        23\n",
            "          40       1.00      1.00      1.00        26\n",
            "          41       1.00      1.00      1.00        16\n",
            "          42       1.00      1.00      1.00        23\n",
            "          43       1.00      1.00      1.00        19\n",
            "          44       1.00      1.00      1.00        26\n",
            "          45       1.00      1.00      1.00        27\n",
            "          46       1.00      1.00      1.00        22\n",
            "          47       1.00      1.00      1.00        47\n",
            "          48       1.00      1.00      1.00        31\n",
            "          49       1.00      1.00      1.00        51\n",
            "          50       1.00      1.00      1.00        13\n",
            "          51       1.00      1.00      1.00        19\n",
            "          52       1.00      1.00      1.00        26\n",
            "          53       1.00      1.00      1.00        24\n",
            "          54       1.00      1.00      1.00        22\n",
            "          55       1.00      1.00      1.00        18\n",
            "          56       1.00      1.00      1.00        25\n",
            "          57       1.00      1.00      1.00        20\n",
            "          58       1.00      1.00      1.00        27\n",
            "          59       1.00      1.00      1.00        17\n",
            "          60       1.00      1.00      1.00        25\n",
            "          61       1.00      1.00      1.00        26\n",
            "          62       1.00      1.00      1.00        20\n",
            "          63       1.00      1.00      1.00        22\n",
            "          64       1.00      1.00      1.00        27\n",
            "          65       1.00      1.00      1.00        42\n",
            "          66       1.00      1.00      1.00        56\n",
            "          67       1.00      1.00      1.00        19\n",
            "          68       1.00      1.00      1.00        19\n",
            "          69       1.00      1.00      1.00        23\n",
            "          70       1.00      1.00      1.00        19\n",
            "          71       1.00      1.00      1.00        22\n",
            "          72       1.00      1.00      1.00        28\n",
            "          73       1.00      1.00      1.00        22\n",
            "          74       1.00      1.00      1.00        17\n",
            "          75       1.00      1.00      1.00        27\n",
            "          76       1.00      1.00      1.00        26\n",
            "          77       1.00      1.00      1.00        28\n",
            "\n",
            "    accuracy                           1.00      2000\n",
            "   macro avg       1.00      1.00      1.00      2000\n",
            "weighted avg       1.00      1.00      1.00      2000\n",
            "\n",
            "1.0\n",
            "\n"
          ],
          "name": "stdout"
        }
      ]
    }
  ]
}